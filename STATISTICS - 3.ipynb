{
 "cells": [
  {
   "cell_type": "markdown",
   "metadata": {},
   "source": [
    "1. Blood glucose levels for obese patients have a mean of 100 with a standard deviation of 15. A\n",
    "researcher thinks that a diet high in raw cornstarch will have a positive effect on blood glucose\n",
    "levels. A sample of 36 patients who have tried the raw cornstarch diet have a mean glucose\n",
    "level of 108. Test the hypothesis that the raw cornstarch had an effect or not."
   ]
  },
  {
   "cell_type": "code",
   "execution_count": 8,
   "metadata": {},
   "outputs": [
    {
     "name": "stdout",
     "output_type": "stream",
     "text": [
      "The population mean is 100\n",
      "For H0,μ= 100\n",
      "For H1,μ > 100\n",
      "Let's assume significance level to be 5% or 0.05\n",
      "assume random choice probability to be z\n",
      "z=(x-μ)/σ\n",
      "The random choice probability is 3.2\n",
      "-----------------------------------------\n",
      "It is less than 0.05 so we will reject the Null hypothesis i.e. there is raw cornstarch effect.Also Setting significance level can also be done using z-value known as critical value. Find out the z- value of 5% probability and it is 1.65 (positive or negative, in any direction). Now we can compare calculated z-value with critical value to make a decision.\n"
     ]
    }
   ],
   "source": [
    "from math import sqrt\n",
    "print(\"The population mean is 100\")\n",
    "print(\"For H0,μ= 100\")\n",
    "μ= 100\n",
    "print(\"For H1,μ > 100\")\n",
    "μ > 100\n",
    "print(\"Let's assume significance level to be 5% or 0.05\")\n",
    "print(\"assume random choice probability to be z\")\n",
    "print(\"z=(x-μ)/σ\")\n",
    "σ=15/sqrt(36)\n",
    "z=(108-100) / (15/sqrt(36))\n",
    "print(\"The random choice probability is\",z)\n",
    "print(\"-----------------------------------------\")\n",
    "print(\"It is less than 0.05 so we will reject the Null hypothesis i.e. there is raw cornstarch effect.Also Setting significance level can also be done using z-value known as critical value. Find out the z- value of 5% probability and it is 1.65 (positive or negative, in any direction). Now we can compare calculated z-value with critical value to make a decision.\")"
   ]
  },
  {
   "cell_type": "markdown",
   "metadata": {},
   "source": [
    "2.In one state, 52% of the voters are Republicans, and 48% are Democrats. In a second state,\n",
    "47% of the voters are Republicans, and 53% are Democrats. Suppose a simple random sample\n",
    "of 100 voters are surveyed from each state.What is the probability that the survey will show a greater percentage of Republican voters in the second state than in the first state?"
   ]
  },
  {
   "cell_type": "code",
   "execution_count": 9,
   "metadata": {},
   "outputs": [
    {
     "name": "stdout",
     "output_type": "stream",
     "text": [
      "Let P1 = the proportion of Republican voters in the first state\n",
      "Let P2 = the proportion of Republican voters in the second state\n",
      "Let p1 = the proportion of Republican voters in the sample from the first state\n",
      "Let p2 = the proportion of Republican voters in the sample from the second state\n",
      "Let n1 = The number of voters sampled from the first state\n",
      "Let n2 = the number of voters sampled from the second state\n",
      "n1P1= 52.0\n",
      "n1(1 - P1) = 48.0\n",
      "n2P2 = 47.0\n",
      "n2(1 - P2) = 53.0\n",
      "The mean difference in sample proportions: E(p1 - p2) = P1 - P2 = 0.050000000000000044\n",
      "σd = sqrt{ [ P1(1 - P1) / n1 ] + [ P2(1 - P2) / n2 ] }=  0.07061869440877536\n",
      "Z-Score = z = (x - μ) / σd = -0.708215297450425\n",
      "---------------------------------------------------\n",
      "Using Stat Trek's,we find that the probability of a z-score being -0.7082 or less is 0.24.Therefore, the probability that the survey will show a greater percentage of Republican voters in the second state than in the first state is  0.24 \n"
     ]
    }
   ],
   "source": [
    "print(\"Let P1 = the proportion of Republican voters in the first state\")\n",
    "print(\"Let P2 = the proportion of Republican voters in the second state\")\n",
    "print(\"Let p1 = the proportion of Republican voters in the sample from the first state\")\n",
    "print(\"Let p2 = the proportion of Republican voters in the sample from the second state\")\n",
    "print(\"Let n1 = The number of voters sampled from the first state\")\n",
    "print(\"Let n2 = the number of voters sampled from the second state\")\n",
    "n1=100;n2=100\n",
    "print(\"n1P1=\",100 * 0.52);print(\"n1(1 - P1) =\", 100 * 0.48) ;print(\"n2P2 =\", 100 * 0.47);print(\"n2(1 - P2) =\",100 * 0.53)\n",
    "print(\"The mean difference in sample proportions: E(p1 - p2) = P1 - P2 =\",0.52 - 0.47)\n",
    "print(\"σd = sqrt{ [ P1(1 - P1) / n1 ] + [ P2(1 - P2) / n2 ] }= \",sqrt(((0.52*0.48)/100)+((0.47*0.53)/100)) )\n",
    "print(\"Z-Score = z = (x - μ) / σd =\",(0 - 0.05)/0.0706 )\n",
    "print(\"---------------------------------------------------\")\n",
    "print(\"Using Stat Trek's,we find that the probability of a z-score being -0.7082 or less is 0.24.Therefore, the probability that the survey will show a greater percentage of Republican voters in the second state than in the first state is  0.24 \")"
   ]
  },
  {
   "cell_type": "markdown",
   "metadata": {},
   "source": [
    "3.You take the SAT and score 1100. The mean score for the SAT is 1026 and the standard deviation is 209. How well did you score on the test compared to the average test taker?"
   ]
  },
  {
   "cell_type": "code",
   "execution_count": 10,
   "metadata": {},
   "outputs": [
    {
     "name": "stdout",
     "output_type": "stream",
     "text": [
      "Evaluating X-value into z-score, Here X value is the SAT score, x = 1100\n",
      "Mean value is μ = 1026\n",
      "Standard Deviation is σ = 209\n",
      "z=(x-μ)/σ\n",
      "z= 0.35406698564593303\n",
      "------------------------\n",
      "Therefore, In z-table for z-value in the z-table the percentage of test-takers scored below .354 is .1368 + .5000* = .6368 or 63.68%. The z-table shown has scores for the right of the mean. Therefore, we have to add .500 for all of the area left of the mean\n"
     ]
    }
   ],
   "source": [
    "print(\"Evaluating X-value into z-score, Here X value is the SAT score, x = 1100\")\n",
    "print(\"Mean value is μ = 1026\")\n",
    "print(\"Standard Deviation is σ = 209\")\n",
    "print(\"z=(x-μ)/σ\")\n",
    "print(\"z=\",(1100-1026)/209)\n",
    "print(\"------------------------\")\n",
    "print(\"Therefore, In z-table for z-value in the z-table the percentage of test-takers scored below .354 is .1368 + .5000* = .6368 or 63.68%. The z-table shown has scores for the right of the mean. Therefore, we have to add .500 for all of the area left of the mean\")"
   ]
  }
 ],
 "metadata": {
  "kernelspec": {
   "display_name": "Python 3",
   "language": "python",
   "name": "python3"
  },
  "language_info": {
   "codemirror_mode": {
    "name": "ipython",
    "version": 3
   },
   "file_extension": ".py",
   "mimetype": "text/x-python",
   "name": "python",
   "nbconvert_exporter": "python",
   "pygments_lexer": "ipython3",
   "version": "3.6.4"
  }
 },
 "nbformat": 4,
 "nbformat_minor": 2
}
